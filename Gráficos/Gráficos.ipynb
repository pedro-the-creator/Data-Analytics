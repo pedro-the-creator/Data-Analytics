{
 "cells": [
  {
   "cell_type": "code",
   "execution_count": 20,
   "metadata": {},
   "outputs": [],
   "source": [
    "import pandas as pd\n",
    "import numpy as np\n",
    "import matplotlib.pyplot as plt"
   ]
  },
  {
   "cell_type": "code",
   "execution_count": 21,
   "metadata": {},
   "outputs": [
    {
     "data": {
      "text/plain": [
       "(187, 4)"
      ]
     },
     "execution_count": 21,
     "metadata": {},
     "output_type": "execute_result"
    }
   ],
   "source": [
    "base = pd.read_csv('dados.csv', sep=';')\n",
    "base.shape"
   ]
  },
  {
   "cell_type": "code",
   "execution_count": 22,
   "metadata": {},
   "outputs": [
    {
     "data": {
      "text/html": [
       "<div>\n",
       "<style scoped>\n",
       "    .dataframe tbody tr th:only-of-type {\n",
       "        vertical-align: middle;\n",
       "    }\n",
       "\n",
       "    .dataframe tbody tr th {\n",
       "        vertical-align: top;\n",
       "    }\n",
       "\n",
       "    .dataframe thead th {\n",
       "        text-align: right;\n",
       "    }\n",
       "</style>\n",
       "<table border=\"1\" class=\"dataframe\">\n",
       "  <thead>\n",
       "    <tr style=\"text-align: right;\">\n",
       "      <th></th>\n",
       "      <th>CODIGO</th>\n",
       "      <th>MUNICIPIO</th>\n",
       "      <th>PIB</th>\n",
       "      <th>VALOREMPENHO</th>\n",
       "    </tr>\n",
       "  </thead>\n",
       "  <tbody>\n",
       "    <tr>\n",
       "      <th>0</th>\n",
       "      <td>106</td>\n",
       "      <td>SANTANA DO LIVRAMENTO</td>\n",
       "      <td>12240.76</td>\n",
       "      <td>1088666.10</td>\n",
       "    </tr>\n",
       "    <tr>\n",
       "      <th>1</th>\n",
       "      <td>113</td>\n",
       "      <td>SANTO ANGELO</td>\n",
       "      <td>16575.82</td>\n",
       "      <td>800669.92</td>\n",
       "    </tr>\n",
       "    <tr>\n",
       "      <th>2</th>\n",
       "      <td>118</td>\n",
       "      <td>SAO FRANCISCO DE ASSIS</td>\n",
       "      <td>12037.61</td>\n",
       "      <td>466122.80</td>\n",
       "    </tr>\n",
       "    <tr>\n",
       "      <th>3</th>\n",
       "      <td>13</td>\n",
       "      <td>CACAPAVA DO SUL</td>\n",
       "      <td>13674.54</td>\n",
       "      <td>485535.86</td>\n",
       "    </tr>\n",
       "    <tr>\n",
       "      <th>4</th>\n",
       "      <td>120</td>\n",
       "      <td>SAO GABRIEL</td>\n",
       "      <td>19912.38</td>\n",
       "      <td>533719.86</td>\n",
       "    </tr>\n",
       "  </tbody>\n",
       "</table>\n",
       "</div>"
      ],
      "text/plain": [
       "   CODIGO               MUNICIPIO       PIB  VALOREMPENHO\n",
       "0     106   SANTANA DO LIVRAMENTO  12240.76    1088666.10\n",
       "1     113            SANTO ANGELO  16575.82     800669.92\n",
       "2     118  SAO FRANCISCO DE ASSIS  12037.61     466122.80\n",
       "3      13         CACAPAVA DO SUL  13674.54     485535.86\n",
       "4     120             SAO GABRIEL  19912.38     533719.86"
      ]
     },
     "execution_count": 22,
     "metadata": {},
     "output_type": "execute_result"
    }
   ],
   "source": [
    "base.head()"
   ]
  },
  {
   "cell_type": "code",
   "execution_count": 23,
   "metadata": {},
   "outputs": [
    {
     "data": {
      "text/plain": [
       "(array([184,   2,   0,   0,   0,   1], dtype=int64),\n",
       " array([  8236.63 ,  44171.895,  80107.16 , 116042.425, 151977.69 ,\n",
       "        187912.955, 223848.22 ]))"
      ]
     },
     "execution_count": 23,
     "metadata": {},
     "output_type": "execute_result"
    }
   ],
   "source": [
    "#histogramas\n",
    "\n",
    "p = np.histogram(base.iloc[:,2], bins = 6)\n",
    "p"
   ]
  },
  {
   "cell_type": "code",
   "execution_count": 24,
   "metadata": {},
   "outputs": [
    {
     "data": {
      "image/png": "[encoded data removed]",
      "text/plain": [
       "<Figure size 640x480 with 1 Axes>"
      ]
     },
     "metadata": {},
     "output_type": "display_data"
    }
   ],
   "source": [
    "\n",
    "\n",
    "plt.hist(base.iloc[:, 2], bins=6)\n",
    "plt.title('PIB')\n",
    "plt.ylabel('Frequência')\n",
    "plt.xlabel('PIB')\n",
    "plt.show()"
   ]
  },
  {
   "cell_type": "code",
   "execution_count": 25,
   "metadata": {},
   "outputs": [
    {
     "data": {
      "text/plain": [
       "count       187.000000\n",
       "mean      19808.741337\n",
       "std       16984.223244\n",
       "min        8236.630000\n",
       "25%       13621.455000\n",
       "50%       17206.190000\n",
       "75%       21429.165000\n",
       "max      223848.220000\n",
       "Name: PIB, dtype: float64"
      ]
     },
     "execution_count": 25,
     "metadata": {},
     "output_type": "execute_result"
    }
   ],
   "source": [
    "base['PIB'].describe()"
   ]
  },
  {
   "cell_type": "code",
   "execution_count": null,
   "metadata": {},
   "outputs": [],
   "source": [
    "#graficos de densidade"
   ]
  }
 ],
 "metadata": {
  "kernelspec": {
   "display_name": "base",
   "language": "python",
   "name": "python3"
  },
  "language_info": {
   "codemirror_mode": {
    "name": "ipython",
    "version": 3
   },
   "file_extension": ".py",
   "mimetype": "text/x-python",
   "name": "python",
   "nbconvert_exporter": "python",
   "pygments_lexer": "ipython3",
   "version": "3.12.7"
  }
 },
 "nbformat": 4,
 "nbformat_minor": 2
}
